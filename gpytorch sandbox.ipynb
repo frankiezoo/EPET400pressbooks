{
 "cells": [
  {
   "cell_type": "markdown",
   "metadata": {},
   "source": [
    "# I want to know how different ML techniques predict linear & nonlinear dynamic system timeseries. Networks include multi-layer perceptrons, convolution, recurrent, residual, dense, and parseval networks. \n",
    "## Other ML methods include Gaussian Processes and interpretation methods, like layer-wise propagation or LIME."
   ]
  },
  {
   "cell_type": "code",
   "execution_count": 1,
   "metadata": {},
   "outputs": [],
   "source": [
    "import torch\n",
    "import math\n",
    "import gpytorch \n",
    "from matplotlib import pyplot as plt"
   ]
  },
  {
   "cell_type": "markdown",
   "metadata": {},
   "source": [
    "### Generate training data"
   ]
  },
  {
   "cell_type": "code",
   "execution_count": 3,
   "metadata": {
    "scrolled": true
   },
   "outputs": [
    {
     "data": {
      "image/png": "[encoded data removed]",
      "text/plain": [
       "<Figure size 432x288 with 1 Axes>"
      ]
     },
     "metadata": {
      "needs_background": "light"
     },
     "output_type": "display_data"
    }
   ],
   "source": [
    "# Training data is 100 points in [0,1] inclusive regularly spaced\n",
    "train_x = torch.linspace(0, 2, 100)\n",
    "# True function is sin(2*pi*x) with Gaussian noise\n",
    "train_y = torch.sin(train_x * (2 * math.pi)) + torch.randn(train_x.size()) * math.sqrt(0.04)\n",
    "\n",
    "plt.plot(train_x,train_y)\n",
    "plt.show()"
   ]
  },
  {
   "cell_type": "markdown",
   "metadata": {},
   "source": [
    "### initialize"
   ]
  },
  {
   "cell_type": "code",
   "execution_count": 7,
   "metadata": {},
   "outputs": [],
   "source": [
    "# We will use the simplest form of GP model, exact inference\n",
    "class ExactGPModel(gpytorch.models.ExactGP):\n",
    "    def __init__(self, train_x, train_y, likelihood):\n",
    "        super(ExactGPModel, self).__init__(train_x, train_y, likelihood)\n",
    "        self.mean_module = gpytorch.means.ConstantMean()\n",
    "        self.covar_module = gpytorch.kernels.ScaleKernel(gpytorch.kernels.RBFKernel())\n",
    "\n",
    "    def forward(self, x):\n",
    "        mean_x = self.mean_module(x)\n",
    "        covar_x = self.covar_module(x)\n",
    "        return gpytorch.distributions.MultivariateNormal(mean_x, covar_x)\n",
    "\n",
    "# initialize likelihood and model\n",
    "likelihood = gpytorch.likelihoods.GaussianLikelihood()\n",
    "model = ExactGPModel(train_x, train_y, likelihood)"
   ]
  },
  {
   "cell_type": "markdown",
   "metadata": {},
   "source": [
    "### train"
   ]
  },
  {
   "cell_type": "code",
   "execution_count": 9,
   "metadata": {},
   "outputs": [
    {
     "name": "stdout",
     "output_type": "stream",
     "text": [
      "Iter 1/50 - Loss: 0.960   lengthscale: 0.693   noise: 0.693\n",
      "Iter 2/50 - Loss: 0.930   lengthscale: 0.644   noise: 0.644\n",
      "Iter 3/50 - Loss: 0.897   lengthscale: 0.598   noise: 0.598\n",
      "Iter 4/50 - Loss: 0.859   lengthscale: 0.555   noise: 0.554\n",
      "Iter 5/50 - Loss: 0.816   lengthscale: 0.514   noise: 0.513\n",
      "Iter 6/50 - Loss: 0.766   lengthscale: 0.476   noise: 0.474\n",
      "Iter 7/50 - Loss: 0.712   lengthscale: 0.440   noise: 0.437\n",
      "Iter 8/50 - Loss: 0.656   lengthscale: 0.405   noise: 0.402\n",
      "Iter 9/50 - Loss: 0.602   lengthscale: 0.373   noise: 0.369\n",
      "Iter 10/50 - Loss: 0.553   lengthscale: 0.343   noise: 0.339\n",
      "Iter 11/50 - Loss: 0.509   lengthscale: 0.316   noise: 0.310\n",
      "Iter 12/50 - Loss: 0.470   lengthscale: 0.292   noise: 0.283\n",
      "Iter 13/50 - Loss: 0.433   lengthscale: 0.271   noise: 0.259\n",
      "Iter 14/50 - Loss: 0.398   lengthscale: 0.254   noise: 0.236\n",
      "Iter 15/50 - Loss: 0.365   lengthscale: 0.240   noise: 0.215\n",
      "Iter 16/50 - Loss: 0.331   lengthscale: 0.229   noise: 0.196\n",
      "Iter 17/50 - Loss: 0.299   lengthscale: 0.220   noise: 0.178\n",
      "Iter 18/50 - Loss: 0.267   lengthscale: 0.213   noise: 0.162\n",
      "Iter 19/50 - Loss: 0.235   lengthscale: 0.209   noise: 0.147\n",
      "Iter 20/50 - Loss: 0.204   lengthscale: 0.206   noise: 0.133\n",
      "Iter 21/50 - Loss: 0.173   lengthscale: 0.204   noise: 0.121\n",
      "Iter 22/50 - Loss: 0.144   lengthscale: 0.205   noise: 0.110\n",
      "Iter 23/50 - Loss: 0.115   lengthscale: 0.206   noise: 0.100\n",
      "Iter 24/50 - Loss: 0.088   lengthscale: 0.209   noise: 0.091\n",
      "Iter 25/50 - Loss: 0.063   lengthscale: 0.213   noise: 0.083\n",
      "Iter 26/50 - Loss: 0.039   lengthscale: 0.217   noise: 0.075\n",
      "Iter 27/50 - Loss: 0.018   lengthscale: 0.223   noise: 0.069\n",
      "Iter 28/50 - Loss: -0.001   lengthscale: 0.230   noise: 0.063\n",
      "Iter 29/50 - Loss: -0.018   lengthscale: 0.238   noise: 0.058\n",
      "Iter 30/50 - Loss: -0.031   lengthscale: 0.246   noise: 0.053\n",
      "Iter 31/50 - Loss: -0.042   lengthscale: 0.255   noise: 0.049\n",
      "Iter 32/50 - Loss: -0.049   lengthscale: 0.264   noise: 0.045\n",
      "Iter 33/50 - Loss: -0.053   lengthscale: 0.274   noise: 0.042\n",
      "Iter 34/50 - Loss: -0.054   lengthscale: 0.283   noise: 0.040\n",
      "Iter 35/50 - Loss: -0.053   lengthscale: 0.292   noise: 0.037\n",
      "Iter 36/50 - Loss: -0.050   lengthscale: 0.300   noise: 0.035\n",
      "Iter 37/50 - Loss: -0.045   lengthscale: 0.306   noise: 0.034\n",
      "Iter 38/50 - Loss: -0.040   lengthscale: 0.310   noise: 0.032\n",
      "Iter 39/50 - Loss: -0.036   lengthscale: 0.312   noise: 0.031\n",
      "Iter 40/50 - Loss: -0.033   lengthscale: 0.312   noise: 0.031\n",
      "Iter 41/50 - Loss: -0.031   lengthscale: 0.309   noise: 0.030\n",
      "Iter 42/50 - Loss: -0.031   lengthscale: 0.305   noise: 0.030\n",
      "Iter 43/50 - Loss: -0.031   lengthscale: 0.300   noise: 0.030\n",
      "Iter 44/50 - Loss: -0.033   lengthscale: 0.294   noise: 0.030\n",
      "Iter 45/50 - Loss: -0.035   lengthscale: 0.289   noise: 0.030\n",
      "Iter 46/50 - Loss: -0.037   lengthscale: 0.283   noise: 0.031\n",
      "Iter 47/50 - Loss: -0.039   lengthscale: 0.279   noise: 0.031\n",
      "Iter 48/50 - Loss: -0.042   lengthscale: 0.275   noise: 0.032\n",
      "Iter 49/50 - Loss: -0.044   lengthscale: 0.271   noise: 0.033\n",
      "Iter 50/50 - Loss: -0.047   lengthscale: 0.269   noise: 0.034\n"
     ]
    }
   ],
   "source": [
    "# Find optimal model hyperparameters\n",
    "model.train()\n",
    "likelihood.train()\n",
    "\n",
    "training_iter = 50\n",
    "\n",
    "# Use the adam optimizer\n",
    "optimizer = torch.optim.Adam([\n",
    "    {'params': model.parameters()},  # Includes GaussianLikelihood parameters\n",
    "], lr=0.1)\n",
    "\n",
    "# \"Loss\" for GPs - the marginal log likelihood\n",
    "mll = gpytorch.mlls.ExactMarginalLogLikelihood(likelihood, model)\n",
    "\n",
    "for i in range(training_iter):\n",
    "    # Zero gradients from previous iteration\n",
    "    optimizer.zero_grad()\n",
    "    # Output from model\n",
    "    output = model(train_x)\n",
    "    # Calc loss and backprop gradients\n",
    "    loss = -mll(output, train_y)\n",
    "    loss.backward()\n",
    "    print('Iter %d/%d - Loss: %.3f   lengthscale: %.3f   noise: %.3f' % (\n",
    "        i + 1, training_iter, loss.item(),\n",
    "        model.covar_module.base_kernel.lengthscale.item(),\n",
    "        model.likelihood.noise.item()\n",
    "    ))\n",
    "    optimizer.step()"
   ]
  },
  {
   "cell_type": "code",
   "execution_count": 15,
   "metadata": {},
   "outputs": [
    {
     "data": {
      "image/png": "[encoded data removed]",
      "text/plain": [
       "<Figure size 288x216 with 1 Axes>"
      ]
     },
     "metadata": {
      "needs_background": "light"
     },
     "output_type": "display_data"
    }
   ],
   "source": [
    "# Get into evaluation (predictive posterior) mode\n",
    "model.eval()\n",
    "likelihood.eval()\n",
    "\n",
    "# Test points are regularly spaced along [0,1]\n",
    "# Make predictions by feeding model through likelihood\n",
    "with torch.no_grad(), gpytorch.settings.fast_pred_var():\n",
    "    test_x = torch.linspace(0, 1, 51)\n",
    "    observed_pred = likelihood(model(test_x))\n",
    "\n",
    "with torch.no_grad():\n",
    "    # Initialize plot\n",
    "    f, ax = plt.subplots(1, 1, figsize=(4, 3))\n",
    "\n",
    "    # Get upper and lower confidence bounds\n",
    "    lower, upper = observed_pred.confidence_region()\n",
    "    # Plot training data as black stars\n",
    "    ax.plot(train_x.numpy(), train_y.numpy(), 'k*')\n",
    "    # Plot predictive means as blue line\n",
    "    ax.plot(test_x.numpy(), observed_pred.mean.numpy(), 'b')\n",
    "    # Shade between the lower and upper confidence bounds\n",
    "    ax.fill_between(test_x.numpy(), lower.numpy(), upper.numpy(), alpha=0.5)\n",
    "    ax.set_ylim([-3, 3])\n",
    "    ax.legend(['Observed Data', 'Mean', 'Confidence'])\n",
    "    \n",
    "    \n",
    "f_preds = model(test_x)\n",
    "y_preds = likelihood(model(test_x))\n",
    "\n",
    "f_mean = f_preds.mean\n",
    "f_var = f_preds.variance\n",
    "f_covar = f_preds.covariance_matrix"
   ]
  }
 ],
 "metadata": {
  "kernelspec": {
   "display_name": "Python 3",
   "language": "python",
   "name": "python3"
  },
  "language_info": {
   "codemirror_mode": {
    "name": "ipython",
    "version": 3
   },
   "file_extension": ".py",
   "mimetype": "text/x-python",
   "name": "python",
   "nbconvert_exporter": "python",
   "pygments_lexer": "ipython3",
   "version": "3.6.10"
  }
 },
 "nbformat": 4,
 "nbformat_minor": 4
}
